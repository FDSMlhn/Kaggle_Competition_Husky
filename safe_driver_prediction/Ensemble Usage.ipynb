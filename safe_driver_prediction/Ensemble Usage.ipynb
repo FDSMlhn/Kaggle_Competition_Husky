{
 "cells": [
  {
   "cell_type": "markdown",
   "metadata": {},
   "source": [
    "# Initialization and package preparation"
   ]
  },
  {
   "cell_type": "code",
   "execution_count": 1,
   "metadata": {},
   "outputs": [],
   "source": [
    "import numpy as np\n",
    "import pandas as pd\n",
    "import matplotlib.pyplot as plt\n",
    "import pickle\n",
    "%matplotlib inline\n",
    "%load_ext autoreload\n",
    "%autoreload 2"
   ]
  },
  {
   "cell_type": "markdown",
   "metadata": {},
   "source": [
    "# Data load and preprocessing"
   ]
  },
  {
   "cell_type": "code",
   "execution_count": 15,
   "metadata": {},
   "outputs": [],
   "source": [
    "import data_util\n",
    "import data_preprocess\n",
    "from sklearn.model_selection import train_test_split\n",
    "from datetime import datetime\n",
    "import numpy as np \n",
    "\n",
    "rso = np.random.RandomState(66)\n",
    "\n",
    "train_data = data_util.load_train_data()\n",
    "test_data= data_util.load_test_data()\n",
    "\n",
    "lv1_pre = data_preprocess.preprocess_cell()\n",
    "\n",
    "X_train = train_data.drop(['id','target'],axis=1)\n",
    "y_train = train_data['target']\n",
    "y_train\n",
    "\n",
    "X_train, X_train_test, y_train, y_train_test = train_test_split(X_train,y_train,test_size =0.1 ,random_state=rso)\n",
    "X_train, X_val, y_train, y_val = train_test_split(X_train,y_train, test_size =0.2, random_state=rso)\n",
    "\n",
    "X_train, y_train = lv1_pre.process(X_train, y=y_train, rso =rso)\n",
    "X_val = lv1_pre.process(X_val,test=True,rso =rso)\n",
    "X_train_test = lv1_pre.process(X_train_test,test=True,rso =rso)\n",
    "X_dev, y_dev = X_train[:10000,:], y_train[:10000]"
   ]
  },
  {
   "cell_type": "markdown",
   "metadata": {},
   "source": [
    "# Load back neural network and give it a try"
   ]
  },
  {
   "cell_type": "code",
   "execution_count": 7,
   "metadata": {},
   "outputs": [],
   "source": [
    "with open('search_lr_wd.pkl', 'rb') as f:\n",
    "    neural_outcome = pickle.load(f)"
   ]
  },
  {
   "cell_type": "code",
   "execution_count": 22,
   "metadata": {},
   "outputs": [],
   "source": [
    "import torch \n",
    "from torch.autograd import Variable\n",
    "dtype = torch.FloatTensor\n",
    "\n",
    "\n",
    "nn_model = neural_outcome['best_net']\n",
    "nn_model.net.eval()\n",
    "# X_train_test_tensor = torch.from_numpy(X_train_test.values)\n",
    "# X_train_test_tensor= X_train_test_tensor.type(dtype)\n",
    "# out = nn_model.test(X_train_test_tensor)\n",
    "# nn_model.check_auc(out,y_train_test)\n",
    "\n",
    "\n",
    "idx = test_data['id']\n",
    "test_data_mutated = test_data.drop(['id'], axis=1)\n",
    "test_data_mutated = naive_pre.dtype_change(test_data_mutated)\n",
    "test_data_mutated = naive_pre.scale(test_data_mutated, test=True)\n",
    "test_data_tensor = torch.from_numpy(test_data_mutated.values)\n",
    "test_data_tensor = test_data_tensor.type(dtype)\n",
    "out = nn_model.test(test_data_tensor)"
   ]
  },
  {
   "cell_type": "code",
   "execution_count": 44,
   "metadata": {},
   "outputs": [
    {
     "name": "stdout",
     "output_type": "stream",
     "text": [
      "(892816, 2)\n"
     ]
    }
   ],
   "source": [
    "result= np.hstack((idx.values.reshape(892816,1), out.data.numpy()[:,1].reshape(892816,1)))\n",
    "print(result.shape)\n",
    "result[:,0] = result[:,0].astype(np.int32)\n",
    "np.savetxt('submission.csv',result, fmt=['%d', '%.9f'] , delimiter= ',', header= 'id, target')"
   ]
  },
  {
   "cell_type": "code",
   "execution_count": null,
   "metadata": {},
   "outputs": [],
   "source": [
    "# ! cat submission.csv 10\n",
    "#! sudo pip3 install lightgbm"
   ]
  },
  {
   "cell_type": "markdown",
   "metadata": {},
   "source": [
    "# Try to use Lightgbm here."
   ]
  },
  {
   "cell_type": "code",
   "execution_count": 2,
   "metadata": {},
   "outputs": [
    {
     "name": "stdout",
     "output_type": "stream",
     "text": [
      "/bin/sh: 1: svn: not found\r\n"
     ]
    }
   ],
   "source": [
    "! svn export https://github.com/Microsoft/LightGBM/tree/master/examples/python-guide"
   ]
  },
  {
   "cell_type": "code",
   "execution_count": 2,
   "metadata": {},
   "outputs": [
    {
     "name": "stderr",
     "output_type": "stream",
     "text": [
      "/usr/local/lib/python3.5/dist-packages/sklearn/utils/deprecation.py:75: DeprecationWarning: Function _ratio_float is deprecated; Use a float for 'ratio' is deprecated from version 0.2. The support will be removed in 0.4. Use a dict, str, or a callable instead.\n",
      "  warnings.warn(msg, category=DeprecationWarning)\n"
     ]
    }
   ],
   "source": [
    "import data_util\n",
    "import data_preprocess\n",
    "from sklearn.model_selection import train_test_split\n",
    "from datetime import datetime\n",
    "import numpy as np \n",
    "\n",
    "rso = np.random.RandomState(66)\n",
    "\n",
    "train_data = data_util.load_train_data()\n",
    "test_data= data_util.load_test_data()\n",
    "\n",
    "lv1_pre = data_preprocess.preprocess_cell()\n",
    "\n",
    "X_train = train_data.drop(['id','target'],axis=1)\n",
    "y_train = train_data['target']\n",
    "y_train\n",
    "\n",
    "X_train, X_train_test, y_train, y_train_test = train_test_split(X_train,y_train,test_size =0.1 ,random_state=rso)\n",
    "X_train, X_val, y_train, y_val = train_test_split(X_train,y_train, test_size =0.2, random_state=rso)\n",
    "\n",
    "X_train, y_train = lv1_pre.process(X_train, y=y_train, rso =rso)\n",
    "X_val = lv1_pre.process(X_val,test=True,rso =rso)\n",
    "X_train_test = lv1_pre.process(X_train_test,test=True,rso =rso)\n",
    "X_dev, y_dev = X_train[:10000,:], y_train[:10000]"
   ]
  },
  {
   "cell_type": "code",
   "execution_count": null,
   "metadata": {},
   "outputs": [],
   "source": []
  }
 ],
 "metadata": {
  "kernelspec": {
   "display_name": "Python 3",
   "language": "python",
   "name": "python3"
  },
  "language_info": {
   "codemirror_mode": {
    "name": "ipython",
    "version": 3
   },
   "file_extension": ".py",
   "mimetype": "text/x-python",
   "name": "python",
   "nbconvert_exporter": "python",
   "pygments_lexer": "ipython3",
   "version": "3.5.2"
  }
 },
 "nbformat": 4,
 "nbformat_minor": 2
}
