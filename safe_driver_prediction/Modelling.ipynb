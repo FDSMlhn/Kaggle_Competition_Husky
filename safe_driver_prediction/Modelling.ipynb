{
 "cells": [
  {
   "cell_type": "code",
   "execution_count": 40,
   "metadata": {
    "collapsed": false
   },
   "outputs": [
    {
     "name": "stdout",
     "output_type": "stream",
     "text": [
      "The autoreload extension is already loaded. To reload it, use:\n",
      "  %reload_ext autoreload\n"
     ]
    }
   ],
   "source": [
    "import numpy as np\n",
    "import pandas as pd\n",
    "import matplotlib.pyplot as plt\n",
    "import pickle\n",
    "%load_ext autoreload\n",
    "%autoreload 2"
   ]
  },
  {
   "cell_type": "code",
   "execution_count": 33,
   "metadata": {
    "collapsed": false,
    "scrolled": true
   },
   "outputs": [
    {
     "ename": "TypeError",
     "evalue": "unhashable type: 'slice'",
     "output_type": "error",
     "traceback": [
      "\u001b[0;31m---------------------------------------------------------------------------\u001b[0m",
      "\u001b[0;31mTypeError\u001b[0m                                 Traceback (most recent call last)",
      "\u001b[0;32m<ipython-input-33-e69e7c6dc231>\u001b[0m in \u001b[0;36m<module>\u001b[0;34m()\u001b[0m\n\u001b[1;32m      4\u001b[0m \u001b[0;31m#dev_set:\u001b[0m\u001b[0;34m\u001b[0m\u001b[0;34m\u001b[0m\u001b[0m\n\u001b[1;32m      5\u001b[0m \u001b[0mnum_dev\u001b[0m \u001b[0;34m=\u001b[0m \u001b[0;36m5000\u001b[0m\u001b[0;34m\u001b[0m\u001b[0m\n\u001b[0;32m----> 6\u001b[0;31m \u001b[0mtrain_dev\u001b[0m \u001b[0;34m=\u001b[0m \u001b[0mtrain\u001b[0m\u001b[0;34m[\u001b[0m\u001b[0;34m:\u001b[0m\u001b[0mnum_dev\u001b[0m\u001b[0;34m,\u001b[0m\u001b[0;34m:\u001b[0m\u001b[0;34m]\u001b[0m\u001b[0;34m\u001b[0m\u001b[0m\n\u001b[0m",
      "\u001b[0;32m/Library/Frameworks/Python.framework/Versions/3.5/lib/python3.5/site-packages/pandas/core/frame.py\u001b[0m in \u001b[0;36m__getitem__\u001b[0;34m(self, key)\u001b[0m\n\u001b[1;32m   1962\u001b[0m             \u001b[0;32mreturn\u001b[0m \u001b[0mself\u001b[0m\u001b[0;34m.\u001b[0m\u001b[0m_getitem_multilevel\u001b[0m\u001b[0;34m(\u001b[0m\u001b[0mkey\u001b[0m\u001b[0;34m)\u001b[0m\u001b[0;34m\u001b[0m\u001b[0m\n\u001b[1;32m   1963\u001b[0m         \u001b[0;32melse\u001b[0m\u001b[0;34m:\u001b[0m\u001b[0;34m\u001b[0m\u001b[0m\n\u001b[0;32m-> 1964\u001b[0;31m             \u001b[0;32mreturn\u001b[0m \u001b[0mself\u001b[0m\u001b[0;34m.\u001b[0m\u001b[0m_getitem_column\u001b[0m\u001b[0;34m(\u001b[0m\u001b[0mkey\u001b[0m\u001b[0;34m)\u001b[0m\u001b[0;34m\u001b[0m\u001b[0m\n\u001b[0m\u001b[1;32m   1965\u001b[0m \u001b[0;34m\u001b[0m\u001b[0m\n\u001b[1;32m   1966\u001b[0m     \u001b[0;32mdef\u001b[0m \u001b[0m_getitem_column\u001b[0m\u001b[0;34m(\u001b[0m\u001b[0mself\u001b[0m\u001b[0;34m,\u001b[0m \u001b[0mkey\u001b[0m\u001b[0;34m)\u001b[0m\u001b[0;34m:\u001b[0m\u001b[0;34m\u001b[0m\u001b[0m\n",
      "\u001b[0;32m/Library/Frameworks/Python.framework/Versions/3.5/lib/python3.5/site-packages/pandas/core/frame.py\u001b[0m in \u001b[0;36m_getitem_column\u001b[0;34m(self, key)\u001b[0m\n\u001b[1;32m   1969\u001b[0m         \u001b[0;31m# get column\u001b[0m\u001b[0;34m\u001b[0m\u001b[0;34m\u001b[0m\u001b[0m\n\u001b[1;32m   1970\u001b[0m         \u001b[0;32mif\u001b[0m \u001b[0mself\u001b[0m\u001b[0;34m.\u001b[0m\u001b[0mcolumns\u001b[0m\u001b[0;34m.\u001b[0m\u001b[0mis_unique\u001b[0m\u001b[0;34m:\u001b[0m\u001b[0;34m\u001b[0m\u001b[0m\n\u001b[0;32m-> 1971\u001b[0;31m             \u001b[0;32mreturn\u001b[0m \u001b[0mself\u001b[0m\u001b[0;34m.\u001b[0m\u001b[0m_get_item_cache\u001b[0m\u001b[0;34m(\u001b[0m\u001b[0mkey\u001b[0m\u001b[0;34m)\u001b[0m\u001b[0;34m\u001b[0m\u001b[0m\n\u001b[0m\u001b[1;32m   1972\u001b[0m \u001b[0;34m\u001b[0m\u001b[0m\n\u001b[1;32m   1973\u001b[0m         \u001b[0;31m# duplicate columns & possible reduce dimensionality\u001b[0m\u001b[0;34m\u001b[0m\u001b[0;34m\u001b[0m\u001b[0m\n",
      "\u001b[0;32m/Library/Frameworks/Python.framework/Versions/3.5/lib/python3.5/site-packages/pandas/core/generic.py\u001b[0m in \u001b[0;36m_get_item_cache\u001b[0;34m(self, item)\u001b[0m\n\u001b[1;32m   1641\u001b[0m         \u001b[0;34m\"\"\"Return the cached item, item represents a label indexer.\"\"\"\u001b[0m\u001b[0;34m\u001b[0m\u001b[0m\n\u001b[1;32m   1642\u001b[0m         \u001b[0mcache\u001b[0m \u001b[0;34m=\u001b[0m \u001b[0mself\u001b[0m\u001b[0;34m.\u001b[0m\u001b[0m_item_cache\u001b[0m\u001b[0;34m\u001b[0m\u001b[0m\n\u001b[0;32m-> 1643\u001b[0;31m         \u001b[0mres\u001b[0m \u001b[0;34m=\u001b[0m \u001b[0mcache\u001b[0m\u001b[0;34m.\u001b[0m\u001b[0mget\u001b[0m\u001b[0;34m(\u001b[0m\u001b[0mitem\u001b[0m\u001b[0;34m)\u001b[0m\u001b[0;34m\u001b[0m\u001b[0m\n\u001b[0m\u001b[1;32m   1644\u001b[0m         \u001b[0;32mif\u001b[0m \u001b[0mres\u001b[0m \u001b[0;32mis\u001b[0m \u001b[0;32mNone\u001b[0m\u001b[0;34m:\u001b[0m\u001b[0;34m\u001b[0m\u001b[0m\n\u001b[1;32m   1645\u001b[0m             \u001b[0mvalues\u001b[0m \u001b[0;34m=\u001b[0m \u001b[0mself\u001b[0m\u001b[0;34m.\u001b[0m\u001b[0m_data\u001b[0m\u001b[0;34m.\u001b[0m\u001b[0mget\u001b[0m\u001b[0;34m(\u001b[0m\u001b[0mitem\u001b[0m\u001b[0;34m)\u001b[0m\u001b[0;34m\u001b[0m\u001b[0m\n",
      "\u001b[0;31mTypeError\u001b[0m: unhashable type: 'slice'"
     ]
    }
   ],
   "source": [
    "train = pd.read_csv('datasets/train.csv')\n",
    "\n",
    "\n",
    "#dev_set:\n",
    "num_dev = 5000\n"
   ]
  },
  {
   "cell_type": "code",
   "execution_count": 80,
   "metadata": {
    "collapsed": false
   },
   "outputs": [
    {
     "name": "stdout",
     "output_type": "stream",
     "text": [
      "0 200000\n",
      "200000 400000\n",
      "400000 595213\n"
     ]
    }
   ],
   "source": [
    "train = pd.read_csv('datasets/train.csv')\n",
    "\n",
    "# train.head\n",
    "train.iloc[:10,:10]\n",
    "N, _ = train.shape\n",
    "\n",
    "for i in range(3):\n",
    "    file = \"datasets/train_batch_{}\".format(i)\n",
    "    with open(file,'wb') as f:\n",
    "        pickle.dump(train.iloc[int(2e5)*i:min(N+1,int(2e5) * (i+1)),:] ,file = f)\n",
    "    "
   ]
  },
  {
   "cell_type": "code",
   "execution_count": 73,
   "metadata": {
    "collapsed": false
   },
   "outputs": [
    {
     "data": {
      "text/plain": [
       "595212"
      ]
     },
     "execution_count": 73,
     "metadata": {},
     "output_type": "execute_result"
    }
   ],
   "source": [
    "N"
   ]
  },
  {
   "cell_type": "code",
   "execution_count": 87,
   "metadata": {
    "collapsed": false
   },
   "outputs": [],
   "source": [
    "test = pd.read_csv('datasets/test.csv')\n",
    "test.shape\n",
    "\n",
    "N, _ = test.shape\n",
    "\n",
    "for i in range(5):\n",
    "    file = \"datasets/test_batch_{}\".format(i)\n",
    "    with open(file,'wb') as f:\n",
    "        pickle.dump(test.iloc[int(2e5)*i:min(N+1,int(2e5) * (i+1)),:] ,file = f)"
   ]
  },
  {
   "cell_type": "code",
   "execution_count": 76,
   "metadata": {
    "collapsed": false
   },
   "outputs": [],
   "source": [
    "import data_util"
   ]
  },
  {
   "cell_type": "code",
   "execution_count": 88,
   "metadata": {
    "collapsed": false
   },
   "outputs": [],
   "source": [
    "a = data_util.load_train_data()"
   ]
  },
  {
   "cell_type": "code",
   "execution_count": 89,
   "metadata": {
    "collapsed": false
   },
   "outputs": [
    {
     "data": {
      "text/plain": [
       "(595212, 59)"
      ]
     },
     "execution_count": 89,
     "metadata": {},
     "output_type": "execute_result"
    }
   ],
   "source": [
    "a.shape"
   ]
  },
  {
   "cell_type": "code",
   "execution_count": 86,
   "metadata": {
    "collapsed": false
   },
   "outputs": [
    {
     "data": {
      "text/plain": [
       "892816"
      ]
     },
     "execution_count": 86,
     "metadata": {},
     "output_type": "execute_result"
    }
   ],
   "source": [
    "N"
   ]
  },
  {
   "cell_type": "code",
   "execution_count": 90,
   "metadata": {
    "collapsed": true
   },
   "outputs": [],
   "source": [
    "b= data_util.load_test_data()"
   ]
  },
  {
   "cell_type": "code",
   "execution_count": 92,
   "metadata": {
    "collapsed": false
   },
   "outputs": [
    {
     "data": {
      "text/plain": [
       "(892816, 58)"
      ]
     },
     "execution_count": 92,
     "metadata": {},
     "output_type": "execute_result"
    }
   ],
   "source": [
    "b.shape"
   ]
  },
  {
   "cell_type": "code",
   "execution_count": 94,
   "metadata": {
    "collapsed": false
   },
   "outputs": [
    {
     "data": {
      "text/plain": [
       "id                 7.000000\n",
       "target             0.000000\n",
       "ps_ind_01          2.000000\n",
       "ps_ind_02_cat      2.000000\n",
       "ps_ind_03          5.000000\n",
       "ps_ind_04_cat      1.000000\n",
       "ps_ind_05_cat      0.000000\n",
       "ps_ind_06_bin      0.000000\n",
       "ps_ind_07_bin      1.000000\n",
       "ps_ind_08_bin      0.000000\n",
       "ps_ind_09_bin      0.000000\n",
       "ps_ind_10_bin      0.000000\n",
       "ps_ind_11_bin      0.000000\n",
       "ps_ind_12_bin      0.000000\n",
       "ps_ind_13_bin      0.000000\n",
       "ps_ind_14          0.000000\n",
       "ps_ind_15         11.000000\n",
       "ps_ind_16_bin      0.000000\n",
       "ps_ind_17_bin      1.000000\n",
       "ps_ind_18_bin      0.000000\n",
       "ps_reg_01          0.700000\n",
       "ps_reg_02          0.200000\n",
       "ps_reg_03          0.718070\n",
       "ps_car_01_cat     10.000000\n",
       "ps_car_02_cat      1.000000\n",
       "ps_car_03_cat     -1.000000\n",
       "ps_car_04_cat      0.000000\n",
       "ps_car_05_cat      1.000000\n",
       "ps_car_06_cat      4.000000\n",
       "ps_car_07_cat      1.000000\n",
       "ps_car_08_cat      0.000000\n",
       "ps_car_09_cat      0.000000\n",
       "ps_car_10_cat      1.000000\n",
       "ps_car_11_cat     12.000000\n",
       "ps_car_11          2.000000\n",
       "ps_car_12          0.400000\n",
       "ps_car_13          0.883679\n",
       "ps_car_14          0.370810\n",
       "ps_car_15          3.605551\n",
       "ps_calc_01         0.600000\n",
       "ps_calc_02         0.500000\n",
       "ps_calc_03         0.200000\n",
       "ps_calc_04         3.000000\n",
       "ps_calc_05         1.000000\n",
       "ps_calc_06        10.000000\n",
       "ps_calc_07         1.000000\n",
       "ps_calc_08        10.000000\n",
       "ps_calc_09         1.000000\n",
       "ps_calc_10         5.000000\n",
       "ps_calc_11         9.000000\n",
       "ps_calc_12         1.000000\n",
       "ps_calc_13         5.000000\n",
       "ps_calc_14         8.000000\n",
       "ps_calc_15_bin     0.000000\n",
       "ps_calc_16_bin     1.000000\n",
       "ps_calc_17_bin     1.000000\n",
       "ps_calc_18_bin     0.000000\n",
       "ps_calc_19_bin     0.000000\n",
       "ps_calc_20_bin     1.000000\n",
       "Name: 0, dtype: float64"
      ]
     },
     "execution_count": 94,
     "metadata": {},
     "output_type": "execute_result"
    }
   ],
   "source": [
    "a.iloc[0]"
   ]
  },
  {
   "cell_type": "code",
   "execution_count": 95,
   "metadata": {
    "collapsed": false
   },
   "outputs": [
    {
     "data": {
      "text/plain": [
       "id                 0.000000\n",
       "ps_ind_01          0.000000\n",
       "ps_ind_02_cat      1.000000\n",
       "ps_ind_03          8.000000\n",
       "ps_ind_04_cat      1.000000\n",
       "ps_ind_05_cat      0.000000\n",
       "ps_ind_06_bin      0.000000\n",
       "ps_ind_07_bin      1.000000\n",
       "ps_ind_08_bin      0.000000\n",
       "ps_ind_09_bin      0.000000\n",
       "ps_ind_10_bin      0.000000\n",
       "ps_ind_11_bin      0.000000\n",
       "ps_ind_12_bin      0.000000\n",
       "ps_ind_13_bin      0.000000\n",
       "ps_ind_14          0.000000\n",
       "ps_ind_15         12.000000\n",
       "ps_ind_16_bin      1.000000\n",
       "ps_ind_17_bin      0.000000\n",
       "ps_ind_18_bin      0.000000\n",
       "ps_reg_01          0.500000\n",
       "ps_reg_02          0.300000\n",
       "ps_reg_03          0.610328\n",
       "ps_car_01_cat      7.000000\n",
       "ps_car_02_cat      1.000000\n",
       "ps_car_03_cat     -1.000000\n",
       "ps_car_04_cat      0.000000\n",
       "ps_car_05_cat     -1.000000\n",
       "ps_car_06_cat      1.000000\n",
       "ps_car_07_cat      1.000000\n",
       "ps_car_08_cat      1.000000\n",
       "ps_car_09_cat      2.000000\n",
       "ps_car_10_cat      1.000000\n",
       "ps_car_11_cat     65.000000\n",
       "ps_car_11          1.000000\n",
       "ps_car_12          0.316228\n",
       "ps_car_13          0.669556\n",
       "ps_car_14          0.352136\n",
       "ps_car_15          3.464102\n",
       "ps_calc_01         0.100000\n",
       "ps_calc_02         0.800000\n",
       "ps_calc_03         0.600000\n",
       "ps_calc_04         1.000000\n",
       "ps_calc_05         1.000000\n",
       "ps_calc_06         6.000000\n",
       "ps_calc_07         3.000000\n",
       "ps_calc_08         6.000000\n",
       "ps_calc_09         2.000000\n",
       "ps_calc_10         9.000000\n",
       "ps_calc_11         1.000000\n",
       "ps_calc_12         1.000000\n",
       "ps_calc_13         1.000000\n",
       "ps_calc_14        12.000000\n",
       "ps_calc_15_bin     0.000000\n",
       "ps_calc_16_bin     1.000000\n",
       "ps_calc_17_bin     1.000000\n",
       "ps_calc_18_bin     0.000000\n",
       "ps_calc_19_bin     0.000000\n",
       "ps_calc_20_bin     1.000000\n",
       "Name: 0, dtype: float64"
      ]
     },
     "execution_count": 95,
     "metadata": {},
     "output_type": "execute_result"
    }
   ],
   "source": [
    "b.iloc[0]"
   ]
  },
  {
   "cell_type": "code",
   "execution_count": null,
   "metadata": {
    "collapsed": true
   },
   "outputs": [],
   "source": []
  }
 ],
 "metadata": {
  "kernelspec": {
   "display_name": "Python 3",
   "language": "python",
   "name": "python3"
  },
  "language_info": {
   "codemirror_mode": {
    "name": "ipython",
    "version": 3
   },
   "file_extension": ".py",
   "mimetype": "text/x-python",
   "name": "python",
   "nbconvert_exporter": "python",
   "pygments_lexer": "ipython3",
   "version": "3.5.0"
  }
 },
 "nbformat": 4,
 "nbformat_minor": 0
}
